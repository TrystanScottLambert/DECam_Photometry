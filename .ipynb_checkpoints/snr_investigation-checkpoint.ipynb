{
 "cells": [
  {
   "cell_type": "markdown",
   "id": "b4308233",
   "metadata": {},
   "source": [
    "# Looking at SNR of candidate sources for cdfs\n"
   ]
  },
  {
   "cell_type": "code",
   "execution_count": 24,
   "id": "84b4a6cc",
   "metadata": {},
   "outputs": [],
   "source": [
    "import numpy as np\n",
    "import pylab as plt\n",
    "from astropy.coordinates import SkyCoord\n",
    "import astropy.units as u\n",
    "from sex_catalog import SExtractorCat\n",
    "from identify_candidates_v2 import calculate_snr\n",
    "\n",
    "\n",
    "infile = 'candidates_cdfs.txt'\n",
    "infile_cat = '../CDFS_LAGER/i_cdfs.cat'\n",
    "\n",
    "ra, dec = np.loadtxt(infile, unpack=True)\n",
    "\n",
    "sex_cat = SExtractorCat(infile_cat)\n",
    "sex_cat.catalog['SNR'] = calculate_snr(sex_cat.catalog['MAGERR_APER'])\n",
    "ra_catalog = np.array(list(sex_cat.catalog['ALPHAPEAK_J2000']))\n",
    "dec_catalog = np.array(list(sex_cat.catalog['DELTAPEAK_J2000']))"
   ]
  },
  {
   "cell_type": "code",
   "execution_count": 25,
   "id": "b7f717e7",
   "metadata": {},
   "outputs": [],
   "source": [
    "candidates = SkyCoord(ra = ra*u.deg, dec = dec*u.deg)\n",
    "catalog = SkyCoord(ra = ra_catalog*u.deg, dec = dec_catalog *u.deg)\n",
    "idx, d2d, _ = candidates.match_to_catalog_sky(catalog)\n",
    "candidates_catalog = sex_cat.catalog.iloc[idx]"
   ]
  },
  {
   "cell_type": "code",
   "execution_count": 26,
   "id": "06cdc4aa",
   "metadata": {},
   "outputs": [
    {
     "data": {
      "text/plain": [
       "(array([ 4.,  2.,  3., 11., 13., 10.,  8., 12.,  6.,  6.]),\n",
       " array([1.09670324e-02, 1.21490496e+00, 2.41884289e+00, 3.62278082e+00,\n",
       "        4.82671875e+00, 6.03065668e+00, 7.23459461e+00, 8.43853254e+00,\n",
       "        9.64247047e+00, 1.08464084e+01, 1.20503463e+01]),\n",
       " <BarContainer object of 10 artists>)"
      ]
     },
     "execution_count": 26,
     "metadata": {},
     "output_type": "execute_result"
    },
    {
     "data": {
      "image/png": "[encoded data removed]",
      "text/plain": [
       "<Figure size 432x288 with 1 Axes>"
      ]
     },
     "metadata": {
      "needs_background": "light"
     },
     "output_type": "display_data"
    }
   ],
   "source": [
    "plt.hist(candidates_catalog['SNR'])"
   ]
  },
  {
   "cell_type": "code",
   "execution_count": null,
   "id": "2f093589",
   "metadata": {},
   "outputs": [],
   "source": []
  }
 ],
 "metadata": {
  "kernelspec": {
   "display_name": "Python 3 (ipykernel)",
   "language": "python",
   "name": "python3"
  },
  "language_info": {
   "codemirror_mode": {
    "name": "ipython",
    "version": 3
   },
   "file_extension": ".py",
   "mimetype": "text/x-python",
   "name": "python",
   "nbconvert_exporter": "python",
   "pygments_lexer": "ipython3",
   "version": "3.10.9"
  }
 },
 "nbformat": 4,
 "nbformat_minor": 5
}
