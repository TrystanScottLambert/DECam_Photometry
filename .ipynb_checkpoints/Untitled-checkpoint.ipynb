{
 "cells": [
  {
   "cell_type": "markdown",
   "id": "68636287",
   "metadata": {},
   "source": [
    "# Looking at SNR of candidate sources for cdfs\n"
   ]
  },
  {
   "cell_type": "code",
   "execution_count": 8,
   "id": "a6d52412",
   "metadata": {},
   "outputs": [],
   "source": [
    "import numpy as np\n",
    "import pylab as plt\n",
    "from astropy.coordinates import SkyCoord\n",
    "import astropy.units as u\n",
    "from sex_catalog import SExtractorCat\n",
    "from identify_candidates_v2 import calculate_snr\n",
    "\n",
    "\n",
    "infile = 'candidates_cdfs.txt'\n",
    "infile_cat = '../CDFS_LAGER/n964_cdfs.cat'\n",
    "\n",
    "ra, dec = np.loadtxt(infile, unpack=True)\n",
    "\n",
    "sex_cat = SExtractorCat(infile_cat)\n",
    "sex_cat.catalog['SNR'] = calculate_snr(sex_cat.catalog['MAGERR_APER'])\n",
    "ra_catalog = np.array(list(sex_cat.catalog['ALPHAPEAK_J2000']))\n",
    "dec_catalog = np.array(list(sex_cat.catalog['DELTAPEAK_J2000']))"
   ]
  },
  {
   "cell_type": "code",
   "execution_count": 16,
   "id": "4aa27ac4",
   "metadata": {},
   "outputs": [],
   "source": [
    "candidates = SkyCoord(ra = ra*u.deg, dec = dec*u.deg)\n",
    "catalog = SkyCoord(ra = ra_catalog*u.deg, dec = dec_catalog *u.deg)\n",
    "idx, d2d, _ = candidates.match_to_catalog_sky(catalog)\n",
    "candidates_catalog = sex_cat.catalog.iloc[idx]"
   ]
  },
  {
   "cell_type": "code",
   "execution_count": 17,
   "id": "e3b66657",
   "metadata": {},
   "outputs": [
    {
     "data": {
      "text/plain": [
       "(array([23., 22.,  8.,  7.,  9.,  2.,  1.,  1.,  1.,  1.]),\n",
       " array([ 4.31361226,  6.71707141,  9.12053056, 11.52398971, 13.92744887,\n",
       "        16.33090802, 18.73436717, 21.13782632, 23.54128547, 25.94474463,\n",
       "        28.34820378]),\n",
       " <BarContainer object of 10 artists>)"
      ]
     },
     "execution_count": 17,
     "metadata": {},
     "output_type": "execute_result"
    },
    {
     "data": {
      "image/png": "[encoded data removed]",
      "text/plain": [
       "<Figure size 432x288 with 1 Axes>"
      ]
     },
     "metadata": {
      "needs_background": "light"
     },
     "output_type": "display_data"
    }
   ],
   "source": [
    "plt.hist(candidates_catalog['SNR'])"
   ]
  },
  {
   "cell_type": "code",
   "execution_count": null,
   "id": "9246c4a6",
   "metadata": {},
   "outputs": [],
   "source": []
  }
 ],
 "metadata": {
  "kernelspec": {
   "display_name": "Python 3 (ipykernel)",
   "language": "python",
   "name": "python3"
  },
  "language_info": {
   "codemirror_mode": {
    "name": "ipython",
    "version": 3
   },
   "file_extension": ".py",
   "mimetype": "text/x-python",
   "name": "python",
   "nbconvert_exporter": "python",
   "pygments_lexer": "ipython3",
   "version": "3.10.6"
  }
 },
 "nbformat": 4,
 "nbformat_minor": 5
}
