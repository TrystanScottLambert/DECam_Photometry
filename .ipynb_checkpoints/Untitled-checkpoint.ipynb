{
 "cells": [
  {
   "cell_type": "markdown",
   "id": "7ab8a196",
   "metadata": {},
   "source": [
    "# Investigating the difference in selection criteria.\n",
    "\n",
    "The original criteria for Hu et. al., (2019) were:\n",
    "\n",
    "1) S/N (N964) > 5 in the narrow band for 2\" exposures and S/N (N"
   ]
  },
  {
   "cell_type": "markdown",
   "id": "f99128bf",
   "metadata": {},
   "source": [
    "## Scaling based on exposure time\n",
    "\n",
    "\\begin{align}\n",
    "\\frac{(S/N)^H}{(S/N)^T} &= \\sqrt{\\frac{t_{H}}{t_{T}}} \\\\ \n",
    "\\Rightarrow (S/N)^H &= (S/N)^T \\sqrt{\\frac{t_{H}}{t_{T}}}\n",
    "\\end{align}\n",
    "\n"
   ]
  },
  {
   "cell_type": "code",
   "execution_count": 63,
   "id": "156863f8",
   "metadata": {},
   "outputs": [],
   "source": [
    "import numpy as np\n",
    "import pylab as plt\n",
    "\n",
    "from sex_catalog import SExtractorCat\n",
    "from zero_points import zero_points\n",
    "from zero_points_cdfs import zero_points_cdfs\n",
    "\n",
    "\n",
    "def calc_snr(mag_err):\n",
    "    return (2.5/np.log(10))/mag_err\n",
    "\n",
    "h_cat = SExtractorCat('../CDFS_LAGER/n964_135_cdfs.cat')\n",
    "t_cat = SExtractorCat('../correct_stacks/N964/n964_135.cat')\n",
    "\n",
    "exptime_t = 51100.5986\n",
    "exptime_h = 121200\n",
    "ratio = np.sqrt(exptime_h/exptime_t)\n",
    "\n",
    "t_cat.catalog['MAG_CORR'] = t_cat.catalog['MAG_APER'] + zero_points.n964_band.mag_correct(1)\n",
    "t_cat.catalog['SNR'] = calc_snr(t_cat.catalog['MAGERR_APER'])\n",
    "\n",
    "h_cat.catalog['MAG_CORR'] = h_cat.catalog['MAG_APER'] + zero_points_cdfs.n964_band.mag_correct(1)\n",
    "h_cat.catalog['SNR'] = calc_snr(h_cat.catalog['MAGERR_APER'])\n",
    "\n"
   ]
  },
  {
   "cell_type": "markdown",
   "id": "f7139642",
   "metadata": {},
   "source": [
    "## Histograming the region around 5 sigma."
   ]
  },
  {
   "cell_type": "code",
   "execution_count": 64,
   "id": "5679a3db",
   "metadata": {},
   "outputs": [
    {
     "name": "stdout",
     "output_type": "stream",
     "text": [
      "25.098830135111292\n"
     ]
    },
    {
     "data": {
      "text/plain": [
       "<matplotlib.legend.Legend at 0x7f274e4825c0>"
      ]
     },
     "execution_count": 64,
     "metadata": {},
     "output_type": "execute_result"
    },
    {
     "data": {
      "image/png": "[encoded data removed]",
      "text/plain": [
       "<Figure size 432x288 with 1 Axes>"
      ]
     },
     "metadata": {
      "needs_background": "light"
     },
     "output_type": "display_data"
    }
   ],
   "source": [
    "mags_t = list(t_cat.catalog[(t_cat.catalog['SNR']>4.9) & (t_cat.catalog['SNR']<5.1)]['MAG_CORR'])\n",
    "mags_h = list(h_cat.catalog[(h_cat.catalog['SNR']>4.9) & (h_cat.catalog['SNR']<5.1)]['MAG_CORR'])\n",
    "print(np.median(mags_t))\n",
    "bins = np.arange(24,26,0.01)\n",
    "plt.hist(mags_h, bins=bins, label='Hu')\n",
    "plt.hist(mags_t, bins=bins, label='Lambert')\n",
    "#plt.axvline(25, ls='--', color='k')\n",
    "#plt.axvline(25, ls=':', color='k')\n",
    "#plt.axvline(24.2, ls=':', color='k')\n",
    "plt.legend()"
   ]
  },
  {
   "cell_type": "code",
   "execution_count": 52,
   "id": "952025cb",
   "metadata": {},
   "outputs": [
    {
     "data": {
      "text/plain": [
       "array([  9341,   9378,  11483,  12321,  27456,  27643,  27677,  29797,\n",
       "        33892,  50492,  50564,  50850,  68764,  77984,  77987,  78225,\n",
       "        78714,  84471,  86096,  97222, 103121, 105166, 105226, 106310,\n",
       "       110502, 118690, 123995, 133901, 134533, 135257, 135619, 143741,\n",
       "       151374, 160717, 160789, 160878, 160933, 161968, 164024, 166657,\n",
       "       167077, 175784, 182926, 187248, 199781, 241966, 243418, 249084,\n",
       "       252184, 253101, 253873, 253900, 254114, 254272, 257974, 259958,\n",
       "       262549, 265134, 267735])"
      ]
     },
     "execution_count": 52,
     "metadata": {},
     "output_type": "execute_result"
    }
   ],
   "source": [
    "snr_t = t_cat.catalog[t_cat.catalog['MAG_CORR'] < 24.66]['SNR']\n",
    "snr_t = list(snr_t)\n",
    "np.where(np.array(snr_t)<5)[0]"
   ]
  },
  {
   "cell_type": "code",
   "execution_count": null,
   "id": "538890aa",
   "metadata": {},
   "outputs": [],
   "source": []
  }
 ],
 "metadata": {
  "kernelspec": {
   "display_name": "Python 3 (ipykernel)",
   "language": "python",
   "name": "python3"
  },
  "language_info": {
   "codemirror_mode": {
    "name": "ipython",
    "version": 3
   },
   "file_extension": ".py",
   "mimetype": "text/x-python",
   "name": "python",
   "nbconvert_exporter": "python",
   "pygments_lexer": "ipython3",
   "version": "3.10.6"
  }
 },
 "nbformat": 4,
 "nbformat_minor": 5
}
