{
 "cells": [
  {
   "cell_type": "markdown",
   "id": "7ab8a196",
   "metadata": {},
   "source": [
    "# Investigating the difference in selection criteria.\n",
    "\n",
    "The original criteria for Hu et. al., (2019) were:\n",
    "\n",
    "1) S/N (N964) > 5 in the narrow band for 2\" exposures and S/N (N"
   ]
  },
  {
   "cell_type": "markdown",
   "id": "f99128bf",
   "metadata": {},
   "source": [
    "## Scaling based on exposure time\n",
    "\n",
    "\\begin{align}\n",
    "\\frac{(S/N)^H}{(S/N)^T} &= \\sqrt{\\frac{t_{H}}{t_{T}}} \\\\ \n",
    "\\Rightarrow (S/N)^H &= (S/N)^T \\sqrt{\\frac{t_{H}}{t_{T}}}\n",
    "\\end{align}\n",
    "\n"
   ]
  },
  {
   "cell_type": "code",
   "execution_count": 66,
   "id": "156863f8",
   "metadata": {},
   "outputs": [],
   "source": [
    "from dataclasses import dataclass\n",
    "import numpy as np\n",
    "import pylab as plt\n",
    "\n",
    "from sex_catalog import SExtractorCat\n",
    "from zero_points import zero_points\n",
    "from zero_points_cdfs import zero_points_cdfs\n",
    "\n",
    "\n",
    "SNR_CUT = 5\n",
    "INFILE_T = '../correct_stacks/N964/n964_135.cat'\n",
    "INFILE_H = '../CDFS_LAGER/n964_135_cdfs.cat'\n",
    "\n",
    "def calc_snr(mag_err):\n",
    "    return (2.5/np.log(10))/mag_err\n",
    "\n",
    "def add_mag_info(sextractor_catalog, zero_point):\n",
    "    cat = SExtractorCat(sextractor_catalog)\n",
    "    cat.catalog['MAG_CORR'] = cat.catalog['MAG_APER'] + zero_point\n",
    "    cat.catalog['SNR'] = calc_snr(cat.catalog['MAGERR_APER'])\n",
    "    return cat\n",
    "\n",
    "def get_mags_at_snr(cat: SExtractorCat, snr):\n",
    "    mags = list(cat.catalog[(cat.catalog['SNR']>snr-0.1) & (cat.catalog['SNR']<snr+0.1)]['MAG_CORR'])\n",
    "    return mags\n",
    "\n",
    "def get_mags_at_sigma_val(infile_us, infile_cdfs, zpt_us, zpt_cdfs, snr):\n",
    "    cat_t = add_mag_info(infile_us, zpt_us)\n",
    "    cat_h = add_mag_info(infile_cdfs, zpt_cdfs)\n",
    "    mag_t = get_mags_at_snr(cat_t, snr)\n",
    "    mag_h = get_mags_at_snr(cat_h, snr)\n",
    "    return mag_t, mag_h\n"
   ]
  },
  {
   "cell_type": "markdown",
   "id": "f7139642",
   "metadata": {},
   "source": [
    "## Histograming the region around 5 sigma."
   ]
  },
  {
   "cell_type": "code",
   "execution_count": 79,
   "id": "5679a3db",
   "metadata": {},
   "outputs": [],
   "source": [
    "@dataclass \n",
    "class Settings:\n",
    "    our_catalog_name: str\n",
    "    cdfs_catalog_name: str\n",
    "    our_zpt: float\n",
    "    cdfs_zpt: float\n",
    "    snr_limit: float\n",
    "\n",
    "\n",
    "def run(settings: Settings):\n",
    "    \n",
    "    mags_t, mags_h = get_mags_at_sigma_val(\n",
    "                settings.our_catalog_name,\n",
    "                settings.cdfs_catalog_name,\n",
    "                settings.our_zpt,\n",
    "                settings.cdfs_zpt,\n",
    "                settings.snr_limit)\n",
    "    our_mag_cut = np.nanmedian(mags_t)\n",
    "    print('Mag cut for at: ', our_mag_cut)\n",
    "    print()\n",
    "    bins = np.arange(24,28,0.01)\n",
    "    plt.hist(mags_h, bins=bins, label='Hu')\n",
    "    plt.hist(mags_t, bins=bins, label='Lambert')\n",
    "    plt.axvline(our_mag_cut, ls='--', color='k')\n",
    "    plt.legend()\n",
    "    plt.show()\n",
    "    "
   ]
  },
  {
   "cell_type": "code",
   "execution_count": 80,
   "id": "952025cb",
   "metadata": {},
   "outputs": [],
   "source": [
    "\n",
    "narrow_band_settings = Settings(\n",
    "    '../correct_stacks/N964/n964.cat',\n",
    "    '../CDFS_LAGER/n964_cdfs.cat',\n",
    "    zero_points.n964_band.mag_correct(1),\n",
    "    zero_points_cdfs.n964_band.mag_correct(1),\n",
    "    5)\n",
    "\n",
    "narrow_band_135_settings = Settings(\n",
    "    '../correct_stacks/N964/n964_135.cat',\n",
    "    '../CDFS_LAGER/n964_135_cdfs.cat',\n",
    "    zero_points.n964_band.mag_correct(1),\n",
    "    zero_points_cdfs.n964_band.mag_correct(1),\n",
    "    5)\n",
    "\n",
    "i_band_settings = Settings(\n",
    "    '../correct_stacks/N964/i.cat',\n",
    "    '../CDFS_LAGER/i_cdfs.cat',\n",
    "    zero_points.i_band.mag_correct(1),\n",
    "    zero_points_cdfs.i_band.mag_correct(1),\n",
    "    3)\n",
    "\n",
    "z_band_settings = Settings(\n",
    "    '../correct_stacks/N964/z.cat',\n",
    "    '../CDFS_LAGER/z_cdfs.cat',\n",
    "    zero_points.z_band.mag_correct(1),\n",
    "    zero_points_cdfs.z_band.mag_correct(1),\n",
    "    3)"
   ]
  },
  {
   "cell_type": "code",
   "execution_count": 81,
   "id": "538890aa",
   "metadata": {},
   "outputs": [
    {
     "name": "stdout",
     "output_type": "stream",
     "text": [
      "n\n",
      "Mag cut for at:  24.669880135111292\n",
      "\n"
     ]
    },
    {
     "data": {
      "image/png": "[encoded data removed]",
      "text/plain": [
       "<Figure size 432x288 with 1 Axes>"
      ]
     },
     "metadata": {
      "needs_background": "light"
     },
     "output_type": "display_data"
    },
    {
     "name": "stdout",
     "output_type": "stream",
     "text": [
      "n_135\n",
      "Mag cut for at:  25.098830135111292\n",
      "\n"
     ]
    },
    {
     "data": {
      "image/png": "[encoded data removed]",
      "text/plain": [
       "<Figure size 432x288 with 1 Axes>"
      ]
     },
     "metadata": {
      "needs_background": "light"
     },
     "output_type": "display_data"
    },
    {
     "name": "stdout",
     "output_type": "stream",
     "text": [
      "z\n",
      "Mag cut for at:  26.147176650512332\n",
      "\n"
     ]
    },
    {
     "data": {
      "image/png": "[encoded data removed]",
      "text/plain": [
       "<Figure size 432x288 with 1 Axes>"
      ]
     },
     "metadata": {
      "needs_background": "light"
     },
     "output_type": "display_data"
    },
    {
     "name": "stdout",
     "output_type": "stream",
     "text": [
      "i\n",
      "Mag cut for at:  26.20478036248649\n",
      "\n"
     ]
    },
    {
     "data": {
      "image/png": "[encoded data removed]",
      "text/plain": [
       "<Figure size 432x288 with 1 Axes>"
      ]
     },
     "metadata": {
      "needs_background": "light"
     },
     "output_type": "display_data"
    }
   ],
   "source": [
    "print('n')\n",
    "run(narrow_band_settings)\n",
    "print('n_135')\n",
    "run(narrow_band_135_settings)\n",
    "print('z')\n",
    "run(z_band_settings)\n",
    "print('i')\n",
    "run(i_band_settings)"
   ]
  },
  {
   "cell_type": "code",
   "execution_count": null,
   "id": "5d6d9209",
   "metadata": {},
   "outputs": [],
   "source": []
  },
  {
   "cell_type": "code",
   "execution_count": null,
   "id": "5ad02082",
   "metadata": {},
   "outputs": [],
   "source": []
  }
 ],
 "metadata": {
  "kernelspec": {
   "display_name": "Python 3 (ipykernel)",
   "language": "python",
   "name": "python3"
  },
  "language_info": {
   "codemirror_mode": {
    "name": "ipython",
    "version": 3
   },
   "file_extension": ".py",
   "mimetype": "text/x-python",
   "name": "python",
   "nbconvert_exporter": "python",
   "pygments_lexer": "ipython3",
   "version": "3.10.6"
  }
 },
 "nbformat": 4,
 "nbformat_minor": 5
}
